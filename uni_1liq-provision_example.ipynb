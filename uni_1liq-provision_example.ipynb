{
 "cells": [
  {
   "cell_type": "code",
   "execution_count": 4,
   "metadata": {},
   "outputs": [],
   "source": [
    "import pandas as pd\n",
    "import math"
   ]
  },
  {
   "cell_type": "code",
   "execution_count": 5,
   "metadata": {},
   "outputs": [],
   "source": [
    "target=7978"
   ]
  },
  {
   "cell_type": "code",
   "execution_count": null,
   "metadata": {},
   "outputs": [],
   "source": [
    "{\n",
    "  \"data\": {\n",
    "    \"liquidityPositionSnapshots\": [\n",
    "      {\n",
    "        \"__typename\": \"LiquidityPositionSnapshot\",\n",
    "        \"liquidityTokenBalance\": \"2926.342669040430821927\",\n",
    "        \"liquidityTokenTotalSupply\": \"1433722.05445230711557242\",\n",
    "        \"pair\": {\n",
    "          \"__typename\": \"Pair\",\n",
    "          \"id\": \"0xa478c2975ab1ea89e8196811f51a7b7ade33eb11\",\n",
    "          \"reserve0\": \"67312744.448073677504537718\",\n",
    "          \"reserve1\": \"45907.803654947420475934\",\n",
    "          \"reserveUSD\": \"134731312.1655708575518850873963859\",\n",
    "          \"token0\": {\n",
    "            \"__typename\": \"Token\",\n",
    "            \"id\": \"0x6b175474e89094c44da98b954eedeac495271d0f\"\n",
    "          },\n",
    "          \"token1\": {\n",
    "            \"__typename\": \"Token\",\n",
    "            \"id\": \"0xc02aaa39b223fe8d0a0e5c4f27ead9083c756cc2\"\n",
    "          }\n",
    "        },\n",
    "        \"reserve0\": \"77066593.358170303570084307\",\n",
    "        \"reserve1\": \"44610.814214797893710869\",\n",
    "        \"reserveUSD\": \"154591197.992882393666563134862636\",\n",
    "        \"timestamp\": 1613017645,\n",
    "        \"token0PriceUSD\": \"1.002971529274773827367509631823061\",\n",
    "        \"token1PriceUSD\": \"1732.665057944658707199292293674455\"\n",
    "      }\n",
    "    ],\n",
    "    \"liquidityPositions\": [\n",
    "      {\n",
    "        \"__typename\": \"LiquidityPosition\",\n",
    "        \"liquidityTokenBalance\": \"2926.342669040430821927\",\n",
    "        \"pair\": {\n",
    "          \"__typename\": \"Pair\",\n",
    "          \"id\": \"0xa478c2975ab1ea89e8196811f51a7b7ade33eb11\",\n",
    "          \"reserve0\": \"67312744.448073677504537718\",\n",
    "          \"reserve1\": \"45907.803654947420475934\",\n",
    "          \"reserveUSD\": \"134731312.1655708575518850873963859\",\n",
    "          \"token0\": {\n",
    "            \"__typename\": \"Token\",\n",
    "            \"derivedETH\": \"0.0006820076054150721389628530754873775\",\n",
    "            \"id\": \"0x6b175474e89094c44da98b954eedeac495271d0f\",\n",
    "            \"symbol\": \"DAI\"\n",
    "          },\n",
    "          \"token1\": {\n",
    "            \"__typename\": \"Token\",\n",
    "            \"derivedETH\": \"1\",\n",
    "            \"id\": \"0xc02aaa39b223fe8d0a0e5c4f27ead9083c756cc2\",\n",
    "            \"symbol\": \"WETH\"\n",
    "          },\n",
    "          \"totalSupply\": \"1322879.187139134945442872\"\n",
    "        }\n",
    "      }\n",
    "    ]\n",
    "  }\n",
    "}"
   ]
  },
  {
   "cell_type": "code",
   "execution_count": 26,
   "metadata": {},
   "outputs": [],
   "source": [
    "# timestamp 1\n",
    "liquidityTokenBalance1=2926.342669040430821927\n",
    "liquidityTokenTotalSupply1=1433722.05445230711557242\n",
    "reserve1_1=77066593.358170303570084307\n",
    "reserve2_1=44610.814214797893710869\n",
    "reserveUSD1=154591197.992882393666563134862636"
   ]
  },
  {
   "cell_type": "code",
   "execution_count": 27,
   "metadata": {},
   "outputs": [],
   "source": [
    "# timestamp 2\n",
    "liquidityTokenBalance2=2926.342669040430821927\n",
    "liquidityTokenTotalSupply2=1322879.187139134945442872\n",
    "reserve1_2=67312744.448073677504537718\n",
    "reserve2_2=45907.803654947420475934\n",
    "reserveUSD2=134731312.1655708575518850873963859"
   ]
  },
  {
   "cell_type": "code",
   "execution_count": 28,
   "metadata": {},
   "outputs": [
    {
     "data": {
      "text/plain": [
       "7977.857941329454"
      ]
     },
     "execution_count": 28,
     "metadata": {},
     "output_type": "execute_result"
    }
   ],
   "source": [
    "fees_earned=(reserveUSD2*(liquidityTokenTotalSupply1/liquidityTokenTotalSupply2-1)+reserveUSD2*(1-(math.sqrt(reserve1_1*reserve2_1)/math.sqrt(reserve1_2*reserve2_2))) )*(liquidityTokenBalance1/liquidityTokenTotalSupply1)\n",
    "fees_earned"
   ]
  },
  {
   "cell_type": "markdown",
   "metadata": {},
   "source": [
    "###### Must be converted into absolute value!"
   ]
  },
  {
   "cell_type": "code",
   "execution_count": null,
   "metadata": {},
   "outputs": [],
   "source": []
  },
  {
   "cell_type": "code",
   "execution_count": null,
   "metadata": {},
   "outputs": [],
   "source": []
  }
 ],
 "metadata": {
  "hide_input": false,
  "kernelspec": {
   "display_name": "Python 3",
   "language": "python",
   "name": "python3"
  },
  "language_info": {
   "codemirror_mode": {
    "name": "ipython",
    "version": 3
   },
   "file_extension": ".py",
   "mimetype": "text/x-python",
   "name": "python",
   "nbconvert_exporter": "python",
   "pygments_lexer": "ipython3",
   "version": "3.7.6"
  }
 },
 "nbformat": 4,
 "nbformat_minor": 4
}
