{
 "cells": [
  {
   "cell_type": "code",
   "execution_count": 18,
   "metadata": {},
   "outputs": [],
   "source": [
    "import pandas as pd"
   ]
  },
  {
   "cell_type": "markdown",
   "metadata": {},
   "source": [
    "###### Current state\n"
   ]
  },
  {
   "cell_type": "code",
   "execution_count": 19,
   "metadata": {},
   "outputs": [],
   "source": [
    "bpt_balance1=0.011347873780947585"
   ]
  },
  {
   "cell_type": "code",
   "execution_count": 20,
   "metadata": {},
   "outputs": [],
   "source": [
    "# in USD\n",
    "pool_liq=893655.3992011364374684510723818495"
   ]
  },
  {
   "cell_type": "code",
   "execution_count": 21,
   "metadata": {},
   "outputs": [],
   "source": [
    "fee=0.0005"
   ]
  },
  {
   "cell_type": "code",
   "execution_count": 22,
   "metadata": {},
   "outputs": [],
   "source": [
    "token1_bal=444117.131253"
   ]
  },
  {
   "cell_type": "code",
   "execution_count": 23,
   "metadata": {},
   "outputs": [],
   "source": [
    "token2_bal= 448967.893330449047625619"
   ]
  },
  {
   "cell_type": "markdown",
   "metadata": {},
   "source": [
    "###### Initial state"
   ]
  },
  {
   "cell_type": "code",
   "execution_count": 24,
   "metadata": {},
   "outputs": [],
   "source": [
    "bpt_balance0 = 0"
   ]
  },
  {
   "cell_type": "code",
   "execution_count": 25,
   "metadata": {},
   "outputs": [],
   "source": [
    "#in USD\n",
    "pool_liq0 = 4980596.236807983881574418162124898"
   ]
  },
  {
   "cell_type": "code",
   "execution_count": 26,
   "metadata": {},
   "outputs": [],
   "source": [
    "token1_bal0 = 2460294.262438"
   ]
  },
  {
   "cell_type": "code",
   "execution_count": 27,
   "metadata": {},
   "outputs": [],
   "source": [
    "token2_bal0 = 2465500.191558707848588617"
   ]
  },
  {
   "cell_type": "code",
   "execution_count": 28,
   "metadata": {},
   "outputs": [
    {
     "data": {
      "text/plain": [
       "4925794.453996709"
      ]
     },
     "execution_count": 28,
     "metadata": {},
     "output_type": "execute_result"
    }
   ],
   "source": [
    "token1_bal0+token2_bal0 "
   ]
  },
  {
   "cell_type": "markdown",
   "metadata": {},
   "source": [
    "###### Account info"
   ]
  },
  {
   "cell_type": "code",
   "execution_count": 36,
   "metadata": {},
   "outputs": [],
   "source": [
    "asset_balance1=0.8585"
   ]
  },
  {
   "cell_type": "code",
   "execution_count": 37,
   "metadata": {},
   "outputs": [],
   "source": [
    "asset_balance2=0.8585"
   ]
  },
  {
   "cell_type": "code",
   "execution_count": 15,
   "metadata": {},
   "outputs": [],
   "source": [
    "my_liquidity=1.72"
   ]
  },
  {
   "cell_type": "code",
   "execution_count": 31,
   "metadata": {},
   "outputs": [
    {
     "data": {
      "text/html": [
       "<div>\n",
       "<style scoped>\n",
       "    .dataframe tbody tr th:only-of-type {\n",
       "        vertical-align: middle;\n",
       "    }\n",
       "\n",
       "    .dataframe tbody tr th {\n",
       "        vertical-align: top;\n",
       "    }\n",
       "\n",
       "    .dataframe thead th {\n",
       "        text-align: right;\n",
       "    }\n",
       "</style>\n",
       "<table border=\"1\" class=\"dataframe\">\n",
       "  <thead>\n",
       "    <tr style=\"text-align: right;\">\n",
       "      <th></th>\n",
       "      <th>Txhash</th>\n",
       "      <th>Blockno</th>\n",
       "      <th>UnixTimestamp</th>\n",
       "      <th>DateTime</th>\n",
       "      <th>From</th>\n",
       "      <th>To</th>\n",
       "      <th>ContractAddress</th>\n",
       "      <th>Value_IN(ETH)</th>\n",
       "      <th>Value_OUT(ETH)</th>\n",
       "      <th>CurrentValue @ $1957.11/Eth</th>\n",
       "      <th>TxnFee(ETH)</th>\n",
       "      <th>TxnFee(USD)</th>\n",
       "      <th>Historical $Price/Eth</th>\n",
       "      <th>Status</th>\n",
       "      <th>ErrCode</th>\n",
       "    </tr>\n",
       "  </thead>\n",
       "  <tbody>\n",
       "    <tr>\n",
       "      <th>0x2b655d9b22c7026da8c0c08f02e8a37d11371f3de9ce2219f7cb120cfd81072a</th>\n",
       "      <td>11093182</td>\n",
       "      <td>1603199421</td>\n",
       "      <td>2020-10-20 13:10:21</td>\n",
       "      <td>0xcf5b9cc1e1d4aa19f093dfd9596b642106f79f64</td>\n",
       "      <td>0x23eef61ab548a8852117561689886f583fc0e2b7</td>\n",
       "      <td>NaN</td>\n",
       "      <td>2.0</td>\n",
       "      <td>0.0</td>\n",
       "      <td>3914.220</td>\n",
       "      <td>0.001869</td>\n",
       "      <td>3.657839</td>\n",
       "      <td>368.83</td>\n",
       "      <td>NaN</td>\n",
       "      <td>NaN</td>\n",
       "      <td>NaN</td>\n",
       "    </tr>\n",
       "    <tr>\n",
       "      <th>0x0d096f0241246e03ede6e550c106955e0c24aba870a8fe1a7a0dcf4620d5c828</th>\n",
       "      <td>11093810</td>\n",
       "      <td>1603207470</td>\n",
       "      <td>2020-10-20 15:24:30</td>\n",
       "      <td>0x23eef61ab548a8852117561689886f583fc0e2b7</td>\n",
       "      <td>0x4678f0a6958e4d2bc4f1baf7bc52e8f3564f3fe4</td>\n",
       "      <td>NaN</td>\n",
       "      <td>0.0</td>\n",
       "      <td>0.0</td>\n",
       "      <td>0.000</td>\n",
       "      <td>0.049164</td>\n",
       "      <td>96.218664</td>\n",
       "      <td>368.83</td>\n",
       "      <td>NaN</td>\n",
       "      <td>NaN</td>\n",
       "      <td>NaN</td>\n",
       "    </tr>\n",
       "    <tr>\n",
       "      <th>0x920e941d641373085c59ff865a99f9fc9e575040e02d591311b553e94f3aa15a</th>\n",
       "      <td>11093831</td>\n",
       "      <td>1603207736</td>\n",
       "      <td>2020-10-20 15:28:56</td>\n",
       "      <td>0x23eef61ab548a8852117561689886f583fc0e2b7</td>\n",
       "      <td>0x7a250d5630b4cf539739df2c5dacb4c659f2488d</td>\n",
       "      <td>NaN</td>\n",
       "      <td>0.0</td>\n",
       "      <td>0.1</td>\n",
       "      <td>195.711</td>\n",
       "      <td>0.012131</td>\n",
       "      <td>23.742093</td>\n",
       "      <td>368.83</td>\n",
       "      <td>NaN</td>\n",
       "      <td>NaN</td>\n",
       "      <td>NaN</td>\n",
       "    </tr>\n",
       "  </tbody>\n",
       "</table>\n",
       "</div>"
      ],
      "text/plain": [
       "                                                      Txhash     Blockno  \\\n",
       "0x2b655d9b22c7026da8c0c08f02e8a37d11371f3de9ce2...  11093182  1603199421   \n",
       "0x0d096f0241246e03ede6e550c106955e0c24aba870a8f...  11093810  1603207470   \n",
       "0x920e941d641373085c59ff865a99f9fc9e575040e02d5...  11093831  1603207736   \n",
       "\n",
       "                                                          UnixTimestamp  \\\n",
       "0x2b655d9b22c7026da8c0c08f02e8a37d11371f3de9ce2...  2020-10-20 13:10:21   \n",
       "0x0d096f0241246e03ede6e550c106955e0c24aba870a8f...  2020-10-20 15:24:30   \n",
       "0x920e941d641373085c59ff865a99f9fc9e575040e02d5...  2020-10-20 15:28:56   \n",
       "\n",
       "                                                                                      DateTime  \\\n",
       "0x2b655d9b22c7026da8c0c08f02e8a37d11371f3de9ce2...  0xcf5b9cc1e1d4aa19f093dfd9596b642106f79f64   \n",
       "0x0d096f0241246e03ede6e550c106955e0c24aba870a8f...  0x23eef61ab548a8852117561689886f583fc0e2b7   \n",
       "0x920e941d641373085c59ff865a99f9fc9e575040e02d5...  0x23eef61ab548a8852117561689886f583fc0e2b7   \n",
       "\n",
       "                                                                                          From  \\\n",
       "0x2b655d9b22c7026da8c0c08f02e8a37d11371f3de9ce2...  0x23eef61ab548a8852117561689886f583fc0e2b7   \n",
       "0x0d096f0241246e03ede6e550c106955e0c24aba870a8f...  0x4678f0a6958e4d2bc4f1baf7bc52e8f3564f3fe4   \n",
       "0x920e941d641373085c59ff865a99f9fc9e575040e02d5...  0x7a250d5630b4cf539739df2c5dacb4c659f2488d   \n",
       "\n",
       "                                                    To  ContractAddress  \\\n",
       "0x2b655d9b22c7026da8c0c08f02e8a37d11371f3de9ce2... NaN              2.0   \n",
       "0x0d096f0241246e03ede6e550c106955e0c24aba870a8f... NaN              0.0   \n",
       "0x920e941d641373085c59ff865a99f9fc9e575040e02d5... NaN              0.0   \n",
       "\n",
       "                                                    Value_IN(ETH)  \\\n",
       "0x2b655d9b22c7026da8c0c08f02e8a37d11371f3de9ce2...            0.0   \n",
       "0x0d096f0241246e03ede6e550c106955e0c24aba870a8f...            0.0   \n",
       "0x920e941d641373085c59ff865a99f9fc9e575040e02d5...            0.1   \n",
       "\n",
       "                                                    Value_OUT(ETH)  \\\n",
       "0x2b655d9b22c7026da8c0c08f02e8a37d11371f3de9ce2...        3914.220   \n",
       "0x0d096f0241246e03ede6e550c106955e0c24aba870a8f...           0.000   \n",
       "0x920e941d641373085c59ff865a99f9fc9e575040e02d5...         195.711   \n",
       "\n",
       "                                                    CurrentValue @ $1957.11/Eth  \\\n",
       "0x2b655d9b22c7026da8c0c08f02e8a37d11371f3de9ce2...                     0.001869   \n",
       "0x0d096f0241246e03ede6e550c106955e0c24aba870a8f...                     0.049164   \n",
       "0x920e941d641373085c59ff865a99f9fc9e575040e02d5...                     0.012131   \n",
       "\n",
       "                                                    TxnFee(ETH)  TxnFee(USD)  \\\n",
       "0x2b655d9b22c7026da8c0c08f02e8a37d11371f3de9ce2...     3.657839       368.83   \n",
       "0x0d096f0241246e03ede6e550c106955e0c24aba870a8f...    96.218664       368.83   \n",
       "0x920e941d641373085c59ff865a99f9fc9e575040e02d5...    23.742093       368.83   \n",
       "\n",
       "                                                   Historical $Price/Eth  \\\n",
       "0x2b655d9b22c7026da8c0c08f02e8a37d11371f3de9ce2...                   NaN   \n",
       "0x0d096f0241246e03ede6e550c106955e0c24aba870a8f...                   NaN   \n",
       "0x920e941d641373085c59ff865a99f9fc9e575040e02d5...                   NaN   \n",
       "\n",
       "                                                   Status  ErrCode  \n",
       "0x2b655d9b22c7026da8c0c08f02e8a37d11371f3de9ce2...    NaN      NaN  \n",
       "0x0d096f0241246e03ede6e550c106955e0c24aba870a8f...    NaN      NaN  \n",
       "0x920e941d641373085c59ff865a99f9fc9e575040e02d5...    NaN      NaN  "
      ]
     },
     "execution_count": 31,
     "metadata": {},
     "output_type": "execute_result"
    }
   ],
   "source": [
    "df=pd.read_csv(\"D:\\Gorian\\Defiyield\\calculations\\export-0x23eEF61AB548a8852117561689886f583FC0E2B7.csv\")\n",
    "df.head(3)"
   ]
  },
  {
   "cell_type": "code",
   "execution_count": 35,
   "metadata": {},
   "outputs": [
    {
     "data": {
      "text/html": [
       "<div>\n",
       "<style scoped>\n",
       "    .dataframe tbody tr th:only-of-type {\n",
       "        vertical-align: middle;\n",
       "    }\n",
       "\n",
       "    .dataframe tbody tr th {\n",
       "        vertical-align: top;\n",
       "    }\n",
       "\n",
       "    .dataframe thead th {\n",
       "        text-align: right;\n",
       "    }\n",
       "</style>\n",
       "<table border=\"1\" class=\"dataframe\">\n",
       "  <thead>\n",
       "    <tr style=\"text-align: right;\">\n",
       "      <th></th>\n",
       "      <th>Txhash</th>\n",
       "      <th>Blockno</th>\n",
       "      <th>UnixTimestamp</th>\n",
       "      <th>DateTime</th>\n",
       "      <th>From</th>\n",
       "      <th>To</th>\n",
       "      <th>ContractAddress</th>\n",
       "      <th>Value_IN(ETH)</th>\n",
       "      <th>Value_OUT(ETH)</th>\n",
       "      <th>CurrentValue @ $1957.11/Eth</th>\n",
       "      <th>TxnFee(ETH)</th>\n",
       "      <th>TxnFee(USD)</th>\n",
       "      <th>Historical $Price/Eth</th>\n",
       "      <th>Status</th>\n",
       "      <th>ErrCode</th>\n",
       "    </tr>\n",
       "  </thead>\n",
       "  <tbody>\n",
       "    <tr>\n",
       "      <th>0xc696024634119d6c5a9c01ae5043703c58efda01ee112c3bfd44d8152a0eaa28</th>\n",
       "      <td>11093868</td>\n",
       "      <td>1603208137</td>\n",
       "      <td>2020-10-20 15:35:37</td>\n",
       "      <td>0x23eef61ab548a8852117561689886f583fc0e2b7</td>\n",
       "      <td>0x72cd8f4504941bf8c5a21d1fd83a96499fd71d2c</td>\n",
       "      <td>NaN</td>\n",
       "      <td>0.0</td>\n",
       "      <td>0.0</td>\n",
       "      <td>0.0</td>\n",
       "      <td>0.004877</td>\n",
       "      <td>9.544747</td>\n",
       "      <td>368.83</td>\n",
       "      <td>NaN</td>\n",
       "      <td>NaN</td>\n",
       "      <td>NaN</td>\n",
       "    </tr>\n",
       "    <tr>\n",
       "      <th>0xb4fba9f6ed1220e69bde5cb267b44e032a7178a10f039063682ed47b9fb7bd42</th>\n",
       "      <td>11554067</td>\n",
       "      <td>1609313617</td>\n",
       "      <td>2020-12-30 07:33:37</td>\n",
       "      <td>0x23eef61ab548a8852117561689886f583fc0e2b7</td>\n",
       "      <td>0x72cd8f4504941bf8c5a21d1fd83a96499fd71d2c</td>\n",
       "      <td>NaN</td>\n",
       "      <td>0.0</td>\n",
       "      <td>0.0</td>\n",
       "      <td>0.0</td>\n",
       "      <td>0.001549</td>\n",
       "      <td>3.031430</td>\n",
       "      <td>752.53</td>\n",
       "      <td>NaN</td>\n",
       "      <td>NaN</td>\n",
       "      <td>NaN</td>\n",
       "    </tr>\n",
       "    <tr>\n",
       "      <th>0x9f792473818a01034e223e6c342ec4fc7c57be771dd59971139871bd9457873f</th>\n",
       "      <td>11678756</td>\n",
       "      <td>1610966376</td>\n",
       "      <td>2021-01-18 10:39:36</td>\n",
       "      <td>0x23eef61ab548a8852117561689886f583fc0e2b7</td>\n",
       "      <td>0x72cd8f4504941bf8c5a21d1fd83a96499fd71d2c</td>\n",
       "      <td>NaN</td>\n",
       "      <td>0.0</td>\n",
       "      <td>0.0</td>\n",
       "      <td>0.0</td>\n",
       "      <td>0.005276</td>\n",
       "      <td>10.325902</td>\n",
       "      <td>1258.31</td>\n",
       "      <td>NaN</td>\n",
       "      <td>NaN</td>\n",
       "      <td>NaN</td>\n",
       "    </tr>\n",
       "    <tr>\n",
       "      <th>0x0eb3ecf0f4d57284ee9108f1a1eba6b82b7916d14e43e9f3db8ad966e904de71</th>\n",
       "      <td>11861821</td>\n",
       "      <td>1613398444</td>\n",
       "      <td>2021-02-15 14:14:04</td>\n",
       "      <td>0x23eef61ab548a8852117561689886f583fc0e2b7</td>\n",
       "      <td>0x72cd8f4504941bf8c5a21d1fd83a96499fd71d2c</td>\n",
       "      <td>NaN</td>\n",
       "      <td>0.0</td>\n",
       "      <td>0.0</td>\n",
       "      <td>0.0</td>\n",
       "      <td>0.004921</td>\n",
       "      <td>9.631518</td>\n",
       "      <td>1779.40</td>\n",
       "      <td>NaN</td>\n",
       "      <td>NaN</td>\n",
       "      <td>NaN</td>\n",
       "    </tr>\n",
       "  </tbody>\n",
       "</table>\n",
       "</div>"
      ],
      "text/plain": [
       "                                                      Txhash     Blockno  \\\n",
       "0xc696024634119d6c5a9c01ae5043703c58efda01ee112...  11093868  1603208137   \n",
       "0xb4fba9f6ed1220e69bde5cb267b44e032a7178a10f039...  11554067  1609313617   \n",
       "0x9f792473818a01034e223e6c342ec4fc7c57be771dd59...  11678756  1610966376   \n",
       "0x0eb3ecf0f4d57284ee9108f1a1eba6b82b7916d14e43e...  11861821  1613398444   \n",
       "\n",
       "                                                          UnixTimestamp  \\\n",
       "0xc696024634119d6c5a9c01ae5043703c58efda01ee112...  2020-10-20 15:35:37   \n",
       "0xb4fba9f6ed1220e69bde5cb267b44e032a7178a10f039...  2020-12-30 07:33:37   \n",
       "0x9f792473818a01034e223e6c342ec4fc7c57be771dd59...  2021-01-18 10:39:36   \n",
       "0x0eb3ecf0f4d57284ee9108f1a1eba6b82b7916d14e43e...  2021-02-15 14:14:04   \n",
       "\n",
       "                                                                                      DateTime  \\\n",
       "0xc696024634119d6c5a9c01ae5043703c58efda01ee112...  0x23eef61ab548a8852117561689886f583fc0e2b7   \n",
       "0xb4fba9f6ed1220e69bde5cb267b44e032a7178a10f039...  0x23eef61ab548a8852117561689886f583fc0e2b7   \n",
       "0x9f792473818a01034e223e6c342ec4fc7c57be771dd59...  0x23eef61ab548a8852117561689886f583fc0e2b7   \n",
       "0x0eb3ecf0f4d57284ee9108f1a1eba6b82b7916d14e43e...  0x23eef61ab548a8852117561689886f583fc0e2b7   \n",
       "\n",
       "                                                                                          From  \\\n",
       "0xc696024634119d6c5a9c01ae5043703c58efda01ee112...  0x72cd8f4504941bf8c5a21d1fd83a96499fd71d2c   \n",
       "0xb4fba9f6ed1220e69bde5cb267b44e032a7178a10f039...  0x72cd8f4504941bf8c5a21d1fd83a96499fd71d2c   \n",
       "0x9f792473818a01034e223e6c342ec4fc7c57be771dd59...  0x72cd8f4504941bf8c5a21d1fd83a96499fd71d2c   \n",
       "0x0eb3ecf0f4d57284ee9108f1a1eba6b82b7916d14e43e...  0x72cd8f4504941bf8c5a21d1fd83a96499fd71d2c   \n",
       "\n",
       "                                                    To  ContractAddress  \\\n",
       "0xc696024634119d6c5a9c01ae5043703c58efda01ee112... NaN              0.0   \n",
       "0xb4fba9f6ed1220e69bde5cb267b44e032a7178a10f039... NaN              0.0   \n",
       "0x9f792473818a01034e223e6c342ec4fc7c57be771dd59... NaN              0.0   \n",
       "0x0eb3ecf0f4d57284ee9108f1a1eba6b82b7916d14e43e... NaN              0.0   \n",
       "\n",
       "                                                    Value_IN(ETH)  \\\n",
       "0xc696024634119d6c5a9c01ae5043703c58efda01ee112...            0.0   \n",
       "0xb4fba9f6ed1220e69bde5cb267b44e032a7178a10f039...            0.0   \n",
       "0x9f792473818a01034e223e6c342ec4fc7c57be771dd59...            0.0   \n",
       "0x0eb3ecf0f4d57284ee9108f1a1eba6b82b7916d14e43e...            0.0   \n",
       "\n",
       "                                                    Value_OUT(ETH)  \\\n",
       "0xc696024634119d6c5a9c01ae5043703c58efda01ee112...             0.0   \n",
       "0xb4fba9f6ed1220e69bde5cb267b44e032a7178a10f039...             0.0   \n",
       "0x9f792473818a01034e223e6c342ec4fc7c57be771dd59...             0.0   \n",
       "0x0eb3ecf0f4d57284ee9108f1a1eba6b82b7916d14e43e...             0.0   \n",
       "\n",
       "                                                    CurrentValue @ $1957.11/Eth  \\\n",
       "0xc696024634119d6c5a9c01ae5043703c58efda01ee112...                     0.004877   \n",
       "0xb4fba9f6ed1220e69bde5cb267b44e032a7178a10f039...                     0.001549   \n",
       "0x9f792473818a01034e223e6c342ec4fc7c57be771dd59...                     0.005276   \n",
       "0x0eb3ecf0f4d57284ee9108f1a1eba6b82b7916d14e43e...                     0.004921   \n",
       "\n",
       "                                                    TxnFee(ETH)  TxnFee(USD)  \\\n",
       "0xc696024634119d6c5a9c01ae5043703c58efda01ee112...     9.544747       368.83   \n",
       "0xb4fba9f6ed1220e69bde5cb267b44e032a7178a10f039...     3.031430       752.53   \n",
       "0x9f792473818a01034e223e6c342ec4fc7c57be771dd59...    10.325902      1258.31   \n",
       "0x0eb3ecf0f4d57284ee9108f1a1eba6b82b7916d14e43e...     9.631518      1779.40   \n",
       "\n",
       "                                                   Historical $Price/Eth  \\\n",
       "0xc696024634119d6c5a9c01ae5043703c58efda01ee112...                   NaN   \n",
       "0xb4fba9f6ed1220e69bde5cb267b44e032a7178a10f039...                   NaN   \n",
       "0x9f792473818a01034e223e6c342ec4fc7c57be771dd59...                   NaN   \n",
       "0x0eb3ecf0f4d57284ee9108f1a1eba6b82b7916d14e43e...                   NaN   \n",
       "\n",
       "                                                   Status  ErrCode  \n",
       "0xc696024634119d6c5a9c01ae5043703c58efda01ee112...    NaN      NaN  \n",
       "0xb4fba9f6ed1220e69bde5cb267b44e032a7178a10f039...    NaN      NaN  \n",
       "0x9f792473818a01034e223e6c342ec4fc7c57be771dd59...    NaN      NaN  \n",
       "0x0eb3ecf0f4d57284ee9108f1a1eba6b82b7916d14e43e...    NaN      NaN  "
      ]
     },
     "execution_count": 35,
     "metadata": {},
     "output_type": "execute_result"
    }
   ],
   "source": [
    "df.loc[df[\"From\"]==\"0x72cd8f4504941bf8c5a21d1fd83a96499fd71d2c\", :]"
   ]
  }
 ],
 "metadata": {
  "hide_input": false,
  "kernelspec": {
   "display_name": "Python 3",
   "language": "python",
   "name": "python3"
  },
  "language_info": {
   "codemirror_mode": {
    "name": "ipython",
    "version": 3
   },
   "file_extension": ".py",
   "mimetype": "text/x-python",
   "name": "python",
   "nbconvert_exporter": "python",
   "pygments_lexer": "ipython3",
   "version": "3.7.6"
  }
 },
 "nbformat": 4,
 "nbformat_minor": 4
}
