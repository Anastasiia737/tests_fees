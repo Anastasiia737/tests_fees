{
 "cells": [
  {
   "cell_type": "code",
   "execution_count": 28,
   "metadata": {},
   "outputs": [],
   "source": [
    "import pandas as pd\n",
    "import math"
   ]
  },
  {
   "cell_type": "code",
   "execution_count": 24,
   "metadata": {},
   "outputs": [],
   "source": [
    "target=13.71"
   ]
  },
  {
   "cell_type": "code",
   "execution_count": null,
   "metadata": {},
   "outputs": [],
   "source": [
    "{\n",
    "  \"data\": {\n",
    "    \"liquidityPositionSnapshots\": [\n",
    "      {\n",
    "        \"id\": \"0xb20bd5d04be54f870d5c0d3ca85d82b34b836405-0x090821dfa1c5855462cefc80f800e046131bb7bb1607266595\",\n",
    "        \"liquidityTokenBalance\": \"0.000467144160525761\",\n",
    "        \"liquidityTokenTotalSupply\": \"0.854606161844648741\",\n",
    "        \"reserve0\": \"907952.132331230522502727\",\n",
    "        \"reserve1\": \"909201.226686\",\n",
    "        \"reserveUSD\": \"1818536.240646352241080097605328341\",\n",
    "        \"timestamp\": 1607266595,\n",
    "        \"token0PriceUSD\": \"1.001580524809069376385443129021035\",\n",
    "        \"token1PriceUSD\": \"0.9994579086728447894863725569805167\"\n",
    "      },\n",
    "      {\n",
    "        \"id\": \"0xb20bd5d04be54f870d5c0d3ca85d82b34b836405-0x090821dfa1c5855462cefc80f800e046131bb7bb1609268151\",\n",
    "        \"liquidityTokenBalance\": \"0\",\n",
    "        \"liquidityTokenTotalSupply\": \"2.415254986403052754\",\n",
    "        \"reserve0\": \"2598708.209032544697433295\",\n",
    "        \"reserve1\": \"2607742.868309\",\n",
    "        \"reserveUSD\": \"5205778.018449691435516832527631786\",\n",
    "        \"timestamp\": 1609268151,\n",
    "        \"token0PriceUSD\": \"1.001361037040615987011300632423414\",\n",
    "        \"token1PriceUSD\": \"0.9983855781667502457256936184713503\"\n",
    "      }\n",
    "    ]\n",
    "  }\n",
    "}"
   ]
  },
  {
   "cell_type": "code",
   "execution_count": 29,
   "metadata": {},
   "outputs": [],
   "source": [
    "# timestamp 1\n",
    "liquidityTokenBalance1=0.000467144160525761\n",
    "liquidityTokenTotalSupply1=2.415254986403052754\n",
    "reserve1_1=2598708.209032544697433295\n",
    "reserve2_1=2607742.868309\n",
    "reserveUSD1=5205778.018449691435516832527631786"
   ]
  },
  {
   "cell_type": "code",
   "execution_count": 30,
   "metadata": {},
   "outputs": [],
   "source": [
    "# timestamp 2\n",
    "liquidityTokenBalance2=0.000467144160525761\n",
    "liquidityTokenTotalSupply2=0.854606161844648741\n",
    "reserve1_2=907952.132331230522502727\n",
    "reserve2_2=909201.226686\n",
    "reserveUSD2=1818536.240646352241080097605328341"
   ]
  },
  {
   "cell_type": "code",
   "execution_count": 33,
   "metadata": {},
   "outputs": [
    {
     "data": {
      "text/plain": [
       "-13.718786484586527"
      ]
     },
     "execution_count": 33,
     "metadata": {},
     "output_type": "execute_result"
    }
   ],
   "source": [
    "fees_earned=(reserveUSD2*(liquidityTokenTotalSupply1/liquidityTokenTotalSupply2-1)+reserveUSD2*(1-(math.sqrt(reserve1_1*reserve2_1)/math.sqrt(reserve1_2*reserve2_2))) )*(liquidityTokenBalance1/liquidityTokenTotalSupply1)\n",
    "fees_earned"
   ]
  },
  {
   "cell_type": "markdown",
   "metadata": {},
   "source": [
    "###### Must be converted into absolute value!"
   ]
  },
  {
   "cell_type": "code",
   "execution_count": null,
   "metadata": {},
   "outputs": [],
   "source": []
  },
  {
   "cell_type": "code",
   "execution_count": null,
   "metadata": {},
   "outputs": [],
   "source": []
  }
 ],
 "metadata": {
  "hide_input": false,
  "kernelspec": {
   "display_name": "Python 3",
   "language": "python",
   "name": "python3"
  },
  "language_info": {
   "codemirror_mode": {
    "name": "ipython",
    "version": 3
   },
   "file_extension": ".py",
   "mimetype": "text/x-python",
   "name": "python",
   "nbconvert_exporter": "python",
   "pygments_lexer": "ipython3",
   "version": "3.7.6"
  }
 },
 "nbformat": 4,
 "nbformat_minor": 4
}
