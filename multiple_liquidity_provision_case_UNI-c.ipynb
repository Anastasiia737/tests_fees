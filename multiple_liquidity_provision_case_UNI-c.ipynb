{
 "cells": [
  {
   "cell_type": "code",
   "execution_count": 29,
   "metadata": {},
   "outputs": [],
   "source": [
    "import pandas as pd\n",
    "import math"
   ]
  },
  {
   "cell_type": "code",
   "execution_count": 30,
   "metadata": {},
   "outputs": [],
   "source": [
    "target=1245"
   ]
  },
  {
   "cell_type": "code",
   "execution_count": null,
   "metadata": {},
   "outputs": [],
   "source": [
    "{\n",
    "  \"data\": {\n",
    "    \"liquidityPositionSnapshots\": [\n",
    "      {\n",
    "        \"id\": \"0x8ae720a71622e824f576b4a8c03031066548a3b1-0x1fe9fd1156688699f4ca017e72ee0d9873f9d7581613624238\",\n",
    "        \"liquidityTokenBalance\": \"1289.06275141441094588\",\n",
    "        \"liquidityTokenTotalSupply\": \"164437.154033097176999089\",\n",
    "        \"reserve0\": \"3825863.551139819963625999\",\n",
    "        \"reserve1\": \"7432.223901195242795364\",\n",
    "        \"reserveUSD\": \"28217370.64102910567624242585153369\",\n",
    "        \"timestamp\": 1613624238,\n",
    "        \"token0PriceUSD\": \"3.68771262537871335416520816422222\",\n",
    "        \"token1PriceUSD\": \"1898.312740315265288484070053879554\"\n",
    "      },\n",
    "      {\n",
    "        \"id\": \"0x8ae720a71622e824f576b4a8c03031066548a3b1-0x1fe9fd1156688699f4ca017e72ee0d9873f9d7581613979304\",\n",
    "        \"liquidityTokenBalance\": \"2494.14225721693982746\",\n",
    "        \"liquidityTokenTotalSupply\": \"830273.026210288128107175\",\n",
    "        \"reserve0\": \"20606992.062490137115530779\",\n",
    "        \"reserve1\": \"35409.026902023008421082\",\n",
    "        \"reserveUSD\": \"133082380.9386255817679226719780676\",\n",
    "        \"timestamp\": 1613979304,\n",
    "        \"token0PriceUSD\": \"3.22905886834567895435293070801734\",\n",
    "        \"token1PriceUSD\": \"1879.215451286833363979868679765194\"\n",
    "      }\n",
    "    ],\n",
    "    \"liquidityPositions\": [\n",
    "      {\n",
    "        \"liquidityTokenBalance\": \"2494.14225721693982746\",\n",
    "        \"pair\": {\n",
    "          \"id\": \"0x8ae720a71622e824f576b4a8c03031066548a3b1\",\n",
    "          \"reserve0\": \"30469058.436114926240852918\",\n",
    "          \"reserve1\": \"67921.066538963616828591\",\n",
    "          \"reserveUSD\": \"202037483.0362821483413774014040956\",\n",
    "          \"token0\": {\n",
    "            \"derivedETH\": \"0.002229181669048784430878006723909087\",\n",
    "            \"id\": \"0x03ab458634910aad20ef5f1c8ee96f1d6ac54919\",\n",
    "            \"symbol\": \"RAI\"\n",
    "          },\n",
    "          \"token1\": {\n",
    "            \"derivedETH\": \"1\",\n",
    "            \"id\": \"0xc02aaa39b223fe8d0a0e5c4f27ead9083c756cc2\",\n",
    "            \"symbol\": \"WETH\"\n",
    "          },\n",
    "          \"totalSupply\": \"1396049.382964595123752955\"\n",
    "        }\n",
    "      }\n",
    "    ]\n",
    "  }\n",
    "}"
   ]
  },
  {
   "cell_type": "code",
   "execution_count": 31,
   "metadata": {},
   "outputs": [],
   "source": [
    "# timestamp 1\n",
    "liquidityTokenBalance1=1289.06275141441094588\n",
    "liquidityTokenTotalSupply1=164437.154033097176999089\n",
    "reserve1_1=3825863.551139819963625999\n",
    "reserve2_1=7432.223901195242795364\n",
    "reserveUSD1=28217370.64102910567624242585153369"
   ]
  },
  {
   "cell_type": "code",
   "execution_count": 32,
   "metadata": {},
   "outputs": [],
   "source": [
    "# timestamp 2\n",
    "liquidityTokenBalance2=2494.14225721693982746\n",
    "liquidityTokenTotalSupply2=830273.026210288128107175\n",
    "reserve1_2=20606992.062490137115530779\n",
    "reserve2_2=35409.026902023008421082\n",
    "reserveUSD2=133082380.9386255817679226719780676"
   ]
  },
  {
   "cell_type": "code",
   "execution_count": 33,
   "metadata": {},
   "outputs": [],
   "source": [
    "# timestamp 3\n",
    "liquidityTokenBalance3=2494.14225721693982746\n",
    "liquidityTokenTotalSupply3=1396049.382964595123752955\n",
    "reserve1_3=30469058.436114926240852918\n",
    "reserve2_3=67921.066538963616828591\n",
    "reserveUSD3=202037483.0362821483413774014040956\n"
   ]
  },
  {
   "cell_type": "code",
   "execution_count": 34,
   "metadata": {},
   "outputs": [
    {
     "data": {
      "text/plain": [
       "674.0940354143073"
      ]
     },
     "execution_count": 34,
     "metadata": {},
     "output_type": "execute_result"
    }
   ],
   "source": [
    "fees_earned1=(reserveUSD2*(liquidityTokenTotalSupply1/liquidityTokenTotalSupply2-1)+reserveUSD2*(1-(math.sqrt(reserve1_1*reserve2_1)/math.sqrt(reserve1_2*reserve2_2))) )*(liquidityTokenBalance1/liquidityTokenTotalSupply1)\n",
    "fees_earned1"
   ]
  },
  {
   "cell_type": "code",
   "execution_count": 35,
   "metadata": {},
   "outputs": [
    {
     "data": {
      "text/plain": [
       "571.0443829011751"
      ]
     },
     "execution_count": 35,
     "metadata": {},
     "output_type": "execute_result"
    }
   ],
   "source": [
    "fees_earned2=(reserveUSD3*(liquidityTokenTotalSupply2/liquidityTokenTotalSupply3-1)+reserveUSD3*(1-(math.sqrt(reserve1_2*reserve2_2)/math.sqrt(reserve1_3*reserve2_3))) )*(liquidityTokenBalance2/liquidityTokenTotalSupply2)\n",
    "fees_earned2"
   ]
  },
  {
   "cell_type": "code",
   "execution_count": 36,
   "metadata": {},
   "outputs": [
    {
     "data": {
      "text/plain": [
       "1245.1384183154823"
      ]
     },
     "execution_count": 36,
     "metadata": {},
     "output_type": "execute_result"
    }
   ],
   "source": [
    "fees_earned1+fees_earned2"
   ]
  },
  {
   "cell_type": "code",
   "execution_count": null,
   "metadata": {},
   "outputs": [],
   "source": []
  }
 ],
 "metadata": {
  "hide_input": false,
  "kernelspec": {
   "display_name": "Python 3",
   "language": "python",
   "name": "python3"
  },
  "language_info": {
   "codemirror_mode": {
    "name": "ipython",
    "version": 3
   },
   "file_extension": ".py",
   "mimetype": "text/x-python",
   "name": "python",
   "nbconvert_exporter": "python",
   "pygments_lexer": "ipython3",
   "version": "3.7.6"
  }
 },
 "nbformat": 4,
 "nbformat_minor": 4
}
